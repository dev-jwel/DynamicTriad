{
  "nbformat": 4,
  "nbformat_minor": 0,
  "metadata": {
    "colab": {
      "name": "main.ipynb",
      "provenance": [],
      "collapsed_sections": []
    },
    "kernelspec": {
      "name": "python3",
      "display_name": "Python 3"
    },
    "language_info": {
      "name": "python"
    },
    "accelerator": "GPU"
  },
  "cells": [
    {
      "cell_type": "code",
      "metadata": {
        "id": "LO853HJkXXUW"
      },
      "source": [
        "!echo deb [ arch=amd64 ] https://downloads.skewed.de/apt bionic main >> /etc/apt/sources.list\n",
        "!apt-key adv --keyserver keys.openpgp.org --recv-key 612DEFB798507F25"
      ],
      "execution_count": null,
      "outputs": []
    },
    {
      "cell_type": "code",
      "metadata": {
        "id": "keKzexSm0EOB"
      },
      "source": [
        "!apt update\n",
        "!apt remove libboost-dev libboost-all-dev python3.7-dev\n",
        "!apt install libeigen3-dev libboost-dev libboost-all-dev python3.7-dev libffi-dev build-essential python3-graph-tool"
      ],
      "execution_count": null,
      "outputs": []
    },
    {
      "cell_type": "code",
      "metadata": {
        "id": "TNyQhtWA3Rg9"
      },
      "source": [
        "%cd /content\n",
        "\n",
        "!rm -rf DynamicTriad\n",
        "!git clone https://github.com/dev-jwel/DynamicTriad.git\n",
        "\n",
        "%cd DynamicTriad"
      ],
      "execution_count": null,
      "outputs": []
    },
    {
      "cell_type": "code",
      "metadata": {
        "id": "UbSas7O0--_s"
      },
      "source": [
        "%cd data\n",
        "!tar -xf academic.pickle.tar.bz2\n",
        "%cd .."
      ],
      "execution_count": null,
      "outputs": []
    },
    {
      "cell_type": "code",
      "metadata": {
        "id": "ggR37PMG3KqP"
      },
      "source": [
        "!bash build.sh"
      ],
      "execution_count": null,
      "outputs": []
    },
    {
      "cell_type": "code",
      "metadata": {
        "id": "VXq9hm1Ygfwb"
      },
      "source": [
        "from six.moves import cPickle\n",
        "obj = None\n",
        "with open('data/academic.pickle', 'rb') as f:\n",
        "  obj = cPickle.load(f, encoding=\"latin1\")\n",
        "print(obj.keys())"
      ],
      "execution_count": null,
      "outputs": []
    },
    {
      "cell_type": "code",
      "metadata": {
        "id": "VIxLGGFwIoG3"
      },
      "source": [
        "!chmod +x scripts/demo.sh\n",
        "!scripts/demo.sh"
      ],
      "execution_count": null,
      "outputs": []
    },
    {
      "cell_type": "code",
      "metadata": {
        "id": "B-ePUJG6jSsy"
      },
      "source": [
        "!chmod +x scripts/academic.sh\n",
        "!scripts/academic.sh"
      ],
      "execution_count": null,
      "outputs": []
    }
  ]
}