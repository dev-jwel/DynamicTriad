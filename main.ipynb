{
  "nbformat": 4,
  "nbformat_minor": 0,
  "metadata": {
    "colab": {
      "name": "main.ipynb",
      "provenance": [],
      "collapsed_sections": []
    },
    "kernelspec": {
      "name": "python3",
      "display_name": "Python 3"
    },
    "language_info": {
      "name": "python"
    }
  },
  "cells": [
    {
      "cell_type": "code",
      "metadata": {
        "id": "LO853HJkXXUW"
      },
      "source": [
        "!echo deb [ arch=amd64 ] https://downloads.skewed.de/apt bionic main >> /etc/apt/sources.list\n",
        "!apt-key adv --keyserver keys.openpgp.org --recv-key 612DEFB798507F25"
      ],
      "execution_count": null,
      "outputs": []
    },
    {
      "cell_type": "code",
      "metadata": {
        "id": "keKzexSm0EOB"
      },
      "source": [
        "!apt update\n",
        "!apt remove libboost-dev libboost-all-dev python3.7-dev\n",
        "!apt install libeigen3-dev libboost-dev libboost-all-dev python3.7-dev libffi-dev build-essential python3-graph-tool"
      ],
      "execution_count": null,
      "outputs": []
    },
    {
      "cell_type": "code",
      "metadata": {
        "id": "TNyQhtWA3Rg9"
      },
      "source": [
        "%cd /content\n",
        "\n",
        "!rm -rf DynamicTriad\n",
        "!git clone https://github.com/dev-jwel/DynamicTriad.git\n",
        "\n",
        "%cd DynamicTriad"
      ],
      "execution_count": null,
      "outputs": []
    },
    {
      "cell_type": "code",
      "metadata": {
        "id": "ggR37PMG3KqP"
      },
      "source": [
        "!bash build.sh"
      ],
      "execution_count": null,
      "outputs": []
    },
    {
      "cell_type": "code",
      "metadata": {
        "id": "H3RHauLbr4tH"
      },
      "source": [
        "!chmod +x scripts/demo.sh\n",
        "!scripts/demo.sh"
      ],
      "execution_count": null,
      "outputs": []
    }
  ]
}